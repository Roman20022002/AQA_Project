{
 "cells": [
  {
   "cell_type": "code",
   "execution_count": 1,
   "id": "a8611686-c335-4038-acda-4326461c2d0e",
   "metadata": {},
   "outputs": [],
   "source": [
    "from Loss_function import loss_function\n",
    "from function_evaluation import func_and_deriv\n",
    "import numpy as np\n",
    "from qiskit_algorithms.optimizers import ADAM"
   ]
  },
  {
   "cell_type": "code",
   "execution_count": 2,
   "id": "95beec3e-47a0-4bb7-99b3-550dd0a310a8",
   "metadata": {},
   "outputs": [],
   "source": [
    "#Set seed:\n",
    "RANDOM_STATE = 42\n",
    "seed = np.random.seed(RANDOM_STATE)\n",
    "\n",
    "#Define parameters\n",
    "epochs = 10\n",
    "shots_simulator = 1024 #number simulator runs\n",
    "num_qubits = 6 #number of qubits\n",
    "l = 2 #depth of variational circuit\n",
    "init_theta = 2*np.pi*np.random.random(num_qubits*l*3)\n",
    "x = np.linspace(0,0.9,10) #grid points"
   ]
  },
  {
   "cell_type": "code",
   "execution_count": 3,
   "id": "9893805b",
   "metadata": {},
   "outputs": [],
   "source": [
    "def training(epochs):\n",
    "    losses = []\n",
    "    theta = init_theta\n",
    "    for i in range(epochs):\n",
    "        print(\"epoch number = \", i)\n",
    "        loss = loss_function(x,num_qubits,l,theta,shots_simulator)\n",
    "        losses.append(loss)\n",
    "\n",
    "        objective_function = lambda theta: loss_function(x,num_qubits,l,theta,shots_simulator)\n",
    "        optimizer = ADAM()\n",
    "\n",
    "        theta_opt = optimizer.minimize(objective_function,theta)[0]\n",
    "        theta = theta_opt\n",
    "\n",
    "    return theta_opt, losses"
   ]
  },
  {
   "cell_type": "code",
   "execution_count": 4,
   "id": "0e2ef868",
   "metadata": {},
   "outputs": [
    {
     "ename": "KeyboardInterrupt",
     "evalue": "",
     "output_type": "error",
     "traceback": [
      "\u001b[0;31m---------------------------------------------------------------------------\u001b[0m",
      "\u001b[0;31mKeyboardInterrupt\u001b[0m                         Traceback (most recent call last)",
      "Cell \u001b[0;32mIn [4], line 1\u001b[0m\n\u001b[0;32m----> 1\u001b[0m theta_opt, losses \u001b[38;5;241m=\u001b[39m \u001b[43mtraining\u001b[49m\u001b[43m(\u001b[49m\u001b[43mepochs\u001b[49m\u001b[43m)\u001b[49m\n",
      "Cell \u001b[0;32mIn [3], line 11\u001b[0m, in \u001b[0;36mtraining\u001b[0;34m(epochs)\u001b[0m\n\u001b[1;32m      8\u001b[0m     objective_function \u001b[38;5;241m=\u001b[39m \u001b[38;5;28;01mlambda\u001b[39;00m theta: loss_function(x,num_qubits,l,theta,shots_simulator)\n\u001b[1;32m      9\u001b[0m     optimizer \u001b[38;5;241m=\u001b[39m ADAM()\n\u001b[0;32m---> 11\u001b[0m     theta_opt \u001b[38;5;241m=\u001b[39m \u001b[43moptimizer\u001b[49m\u001b[38;5;241;43m.\u001b[39;49m\u001b[43mminimize\u001b[49m\u001b[43m(\u001b[49m\u001b[43mobjective_function\u001b[49m\u001b[43m,\u001b[49m\u001b[43mtheta\u001b[49m\u001b[43m)\u001b[49m[\u001b[38;5;241m0\u001b[39m]\n\u001b[1;32m     12\u001b[0m     theta \u001b[38;5;241m=\u001b[39m theta_opt\n\u001b[1;32m     14\u001b[0m \u001b[38;5;28;01mreturn\u001b[39;00m theta_opt, losses\n",
      "File \u001b[0;32m~/.local/lib/python3.10/site-packages/qiskit_algorithms/optimizers/adam_amsgrad.py:214\u001b[0m, in \u001b[0;36mADAM.minimize\u001b[0;34m(self, fun, x0, jac, bounds)\u001b[0m\n\u001b[1;32m    211\u001b[0m \u001b[38;5;28;01mif\u001b[39;00m jac \u001b[38;5;129;01mis\u001b[39;00m \u001b[38;5;28;01mNone\u001b[39;00m:\n\u001b[1;32m    212\u001b[0m     jac \u001b[38;5;241m=\u001b[39m Optimizer\u001b[38;5;241m.\u001b[39mwrap_function(Optimizer\u001b[38;5;241m.\u001b[39mgradient_num_diff, (fun, \u001b[38;5;28mself\u001b[39m\u001b[38;5;241m.\u001b[39m_eps))\n\u001b[0;32m--> 214\u001b[0m derivative \u001b[38;5;241m=\u001b[39m \u001b[43mjac\u001b[49m\u001b[43m(\u001b[49m\u001b[43mx0\u001b[49m\u001b[43m)\u001b[49m\n\u001b[1;32m    215\u001b[0m \u001b[38;5;28mself\u001b[39m\u001b[38;5;241m.\u001b[39m_t \u001b[38;5;241m=\u001b[39m \u001b[38;5;241m0\u001b[39m\n\u001b[1;32m    216\u001b[0m \u001b[38;5;28mself\u001b[39m\u001b[38;5;241m.\u001b[39m_m \u001b[38;5;241m=\u001b[39m np\u001b[38;5;241m.\u001b[39mzeros(np\u001b[38;5;241m.\u001b[39mshape(derivative))\n",
      "File \u001b[0;32m~/.local/lib/python3.10/site-packages/qiskit_algorithms/optimizers/optimizer.py:268\u001b[0m, in \u001b[0;36mOptimizer.wrap_function.<locals>.function_wrapper\u001b[0;34m(*wrapper_args)\u001b[0m\n\u001b[1;32m    267\u001b[0m \u001b[38;5;28;01mdef\u001b[39;00m \u001b[38;5;21mfunction_wrapper\u001b[39m(\u001b[38;5;241m*\u001b[39mwrapper_args):\n\u001b[0;32m--> 268\u001b[0m     \u001b[38;5;28;01mreturn\u001b[39;00m \u001b[43mfunction\u001b[49m\u001b[43m(\u001b[49m\u001b[38;5;241;43m*\u001b[39;49m\u001b[43m(\u001b[49m\u001b[43mwrapper_args\u001b[49m\u001b[43m \u001b[49m\u001b[38;5;241;43m+\u001b[39;49m\u001b[43m \u001b[49m\u001b[43margs\u001b[49m\u001b[43m)\u001b[49m\u001b[43m)\u001b[49m\n",
      "File \u001b[0;32m~/.local/lib/python3.10/site-packages/qiskit_algorithms/optimizers/optimizer.py:246\u001b[0m, in \u001b[0;36mOptimizer.gradient_num_diff\u001b[0;34m(x_center, f, epsilon, max_evals_grouped)\u001b[0m\n\u001b[1;32m    244\u001b[0m \u001b[38;5;28;01mfor\u001b[39;00m chunk \u001b[38;5;129;01min\u001b[39;00m chunks:  \u001b[38;5;66;03m# eval the chunks in order\u001b[39;00m\n\u001b[1;32m    245\u001b[0m     parallel_parameters \u001b[38;5;241m=\u001b[39m np\u001b[38;5;241m.\u001b[39mconcatenate(chunk)\n\u001b[0;32m--> 246\u001b[0m     todos_results \u001b[38;5;241m=\u001b[39m \u001b[43mf\u001b[49m\u001b[43m(\u001b[49m\u001b[43mparallel_parameters\u001b[49m\u001b[43m)\u001b[49m  \u001b[38;5;66;03m# eval the points in a chunk (order preserved)\u001b[39;00m\n\u001b[1;32m    247\u001b[0m     \u001b[38;5;28;01mif\u001b[39;00m \u001b[38;5;28misinstance\u001b[39m(todos_results, \u001b[38;5;28mfloat\u001b[39m):\n\u001b[1;32m    248\u001b[0m         grad\u001b[38;5;241m.\u001b[39mappend((todos_results \u001b[38;5;241m-\u001b[39m forig) \u001b[38;5;241m/\u001b[39m epsilon)\n",
      "Cell \u001b[0;32mIn [3], line 8\u001b[0m, in \u001b[0;36mtraining.<locals>.<lambda>\u001b[0;34m(theta)\u001b[0m\n\u001b[1;32m      5\u001b[0m loss \u001b[38;5;241m=\u001b[39m loss_function(x,num_qubits,l,theta,shots_simulator)\n\u001b[1;32m      6\u001b[0m losses\u001b[38;5;241m.\u001b[39mappend(loss)\n\u001b[0;32m----> 8\u001b[0m objective_function \u001b[38;5;241m=\u001b[39m \u001b[38;5;28;01mlambda\u001b[39;00m theta: \u001b[43mloss_function\u001b[49m\u001b[43m(\u001b[49m\u001b[43mx\u001b[49m\u001b[43m,\u001b[49m\u001b[43mnum_qubits\u001b[49m\u001b[43m,\u001b[49m\u001b[43ml\u001b[49m\u001b[43m,\u001b[49m\u001b[43mtheta\u001b[49m\u001b[43m,\u001b[49m\u001b[43mshots_simulator\u001b[49m\u001b[43m)\u001b[49m\n\u001b[1;32m      9\u001b[0m optimizer \u001b[38;5;241m=\u001b[39m ADAM()\n\u001b[1;32m     11\u001b[0m theta_opt \u001b[38;5;241m=\u001b[39m optimizer\u001b[38;5;241m.\u001b[39mminimize(objective_function,theta)[\u001b[38;5;241m0\u001b[39m]\n",
      "File \u001b[0;32m~/master/q3/AQA/AQA_Project/Loss_function.py:20\u001b[0m, in \u001b[0;36mloss_function\u001b[0;34m(x, num_qubits, l, theta, shots_simulator)\u001b[0m\n\u001b[1;32m     19\u001b[0m \u001b[38;5;28;01mdef\u001b[39;00m \u001b[38;5;21mloss_function\u001b[39m(x,num_qubits,l,theta,shots_simulator):\n\u001b[0;32m---> 20\u001b[0m     f, df \u001b[38;5;241m=\u001b[39m \u001b[43mfunc_and_deriv\u001b[49m\u001b[43m(\u001b[49m\u001b[43mx\u001b[49m\u001b[43m,\u001b[49m\u001b[43mnum_qubits\u001b[49m\u001b[43m,\u001b[49m\u001b[43ml\u001b[49m\u001b[43m,\u001b[49m\u001b[43mtheta\u001b[49m\u001b[43m,\u001b[49m\u001b[43mshots_simulator\u001b[49m\u001b[43m)\u001b[49m\n\u001b[1;32m     21\u001b[0m     loss \u001b[38;5;241m=\u001b[39m diff_loss(f, df, x) \u001b[38;5;241m+\u001b[39m boundary_loss(f[\u001b[38;5;241m0\u001b[39m])\n\u001b[1;32m     22\u001b[0m     \u001b[38;5;28;01mreturn\u001b[39;00m loss\n",
      "File \u001b[0;32m~/master/q3/AQA/AQA_Project/function_evaluation.py:74\u001b[0m, in \u001b[0;36mfunc_and_deriv\u001b[0;34m(x, n, l, Theta, shots)\u001b[0m\n\u001b[1;32m     72\u001b[0m \u001b[38;5;28;01mfor\u001b[39;00m i \u001b[38;5;129;01min\u001b[39;00m x:\n\u001b[1;32m     73\u001b[0m     f\u001b[38;5;241m.\u001b[39mappend(f_func(i,n,l,Theta,shots))\n\u001b[0;32m---> 74\u001b[0m     df\u001b[38;5;241m.\u001b[39mappend(\u001b[43mdf_func\u001b[49m\u001b[43m(\u001b[49m\u001b[43mi\u001b[49m\u001b[43m,\u001b[49m\u001b[43mn\u001b[49m\u001b[43m,\u001b[49m\u001b[43ml\u001b[49m\u001b[43m,\u001b[49m\u001b[43mTheta\u001b[49m\u001b[43m,\u001b[49m\u001b[43mshots\u001b[49m\u001b[43m)\u001b[49m)\n\u001b[1;32m     76\u001b[0m \u001b[38;5;28;01mreturn\u001b[39;00m np\u001b[38;5;241m.\u001b[39marray(f), np\u001b[38;5;241m.\u001b[39marray(df)\n",
      "File \u001b[0;32m~/master/q3/AQA/AQA_Project/function_evaluation.py:63\u001b[0m, in \u001b[0;36mdf_func\u001b[0;34m(x, n, l, Theta, shots)\u001b[0m\n\u001b[1;32m     61\u001b[0m     \u001b[38;5;28;01melse\u001b[39;00m:\n\u001b[1;32m     62\u001b[0m         circuit \u001b[38;5;241m=\u001b[39m create_circuit(x,n,l,Theta,i)\n\u001b[0;32m---> 63\u001b[0m         expectation \u001b[38;5;241m=\u001b[39m \u001b[43mexpect_value\u001b[49m\u001b[43m(\u001b[49m\u001b[43mcircuit\u001b[49m\u001b[43m,\u001b[49m\u001b[43mshots\u001b[49m\u001b[43m)\u001b[49m\n\u001b[1;32m     64\u001b[0m         C_minus \u001b[38;5;241m+\u001b[39m\u001b[38;5;241m=\u001b[39m expectation\n\u001b[1;32m     66\u001b[0m \u001b[38;5;28;01mreturn\u001b[39;00m \u001b[38;5;241m1\u001b[39m\u001b[38;5;241m/\u001b[39m\u001b[38;5;241m4\u001b[39m\u001b[38;5;241m*\u001b[39mdphi(x)\u001b[38;5;241m*\u001b[39m(C_plus\u001b[38;5;241m-\u001b[39mC_minus)\n",
      "File \u001b[0;32m~/master/q3/AQA/AQA_Project/function_evaluation.py:17\u001b[0m, in \u001b[0;36mexpect_value\u001b[0;34m(qc, shots)\u001b[0m\n\u001b[1;32m     14\u001b[0m \u001b[38;5;28;01mdef\u001b[39;00m \u001b[38;5;21mexpect_value\u001b[39m(qc, shots):\n\u001b[1;32m     15\u001b[0m     \u001b[38;5;66;03m#run circuit\u001b[39;00m\n\u001b[1;32m     16\u001b[0m     simulator \u001b[38;5;241m=\u001b[39m AerSimulator()\n\u001b[0;32m---> 17\u001b[0m     result \u001b[38;5;241m=\u001b[39m \u001b[43msimulator\u001b[49m\u001b[38;5;241;43m.\u001b[39;49m\u001b[43mrun\u001b[49m\u001b[43m(\u001b[49m\u001b[43mqc\u001b[49m\u001b[43m,\u001b[49m\u001b[43mshots\u001b[49m\u001b[38;5;241;43m=\u001b[39;49m\u001b[43mshots\u001b[49m\u001b[43m)\u001b[49m\u001b[38;5;241;43m.\u001b[39;49m\u001b[43mresult\u001b[49m\u001b[43m(\u001b[49m\u001b[43m)\u001b[49m\n\u001b[1;32m     20\u001b[0m     \u001b[38;5;66;03m#Get counts and normalize them\u001b[39;00m\n\u001b[1;32m     21\u001b[0m     counts \u001b[38;5;241m=\u001b[39m result\u001b[38;5;241m.\u001b[39mget_counts()\n",
      "File \u001b[0;32m~/.local/lib/python3.10/site-packages/qiskit_aer/jobs/utils.py:42\u001b[0m, in \u001b[0;36mrequires_submit.<locals>._wrapper\u001b[0;34m(self, *args, **kwargs)\u001b[0m\n\u001b[1;32m     40\u001b[0m \u001b[38;5;28;01mif\u001b[39;00m \u001b[38;5;28mself\u001b[39m\u001b[38;5;241m.\u001b[39m_future \u001b[38;5;129;01mis\u001b[39;00m \u001b[38;5;28;01mNone\u001b[39;00m:\n\u001b[1;32m     41\u001b[0m     \u001b[38;5;28;01mraise\u001b[39;00m JobError(\u001b[38;5;124m\"\u001b[39m\u001b[38;5;124mJob not submitted yet!. You have to .submit() first!\u001b[39m\u001b[38;5;124m\"\u001b[39m)\n\u001b[0;32m---> 42\u001b[0m \u001b[38;5;28;01mreturn\u001b[39;00m \u001b[43mfunc\u001b[49m\u001b[43m(\u001b[49m\u001b[38;5;28;43mself\u001b[39;49m\u001b[43m,\u001b[49m\u001b[43m \u001b[49m\u001b[38;5;241;43m*\u001b[39;49m\u001b[43margs\u001b[49m\u001b[43m,\u001b[49m\u001b[43m \u001b[49m\u001b[38;5;241;43m*\u001b[39;49m\u001b[38;5;241;43m*\u001b[39;49m\u001b[43mkwargs\u001b[49m\u001b[43m)\u001b[49m\n",
      "File \u001b[0;32m~/.local/lib/python3.10/site-packages/qiskit_aer/jobs/aerjob.py:114\u001b[0m, in \u001b[0;36mAerJob.result\u001b[0;34m(self, timeout)\u001b[0m\n\u001b[1;32m     96\u001b[0m \u001b[38;5;129m@requires_submit\u001b[39m\n\u001b[1;32m     97\u001b[0m \u001b[38;5;28;01mdef\u001b[39;00m \u001b[38;5;21mresult\u001b[39m(\u001b[38;5;28mself\u001b[39m, timeout\u001b[38;5;241m=\u001b[39m\u001b[38;5;28;01mNone\u001b[39;00m):\n\u001b[1;32m     98\u001b[0m     \u001b[38;5;66;03m# pylint: disable=arguments-differ\u001b[39;00m\n\u001b[1;32m     99\u001b[0m     \u001b[38;5;124;03m\"\"\"Get job result. The behavior is the same as the underlying\u001b[39;00m\n\u001b[1;32m    100\u001b[0m \u001b[38;5;124;03m    concurrent Future objects,\u001b[39;00m\n\u001b[1;32m    101\u001b[0m \n\u001b[0;32m   (...)\u001b[0m\n\u001b[1;32m    112\u001b[0m \u001b[38;5;124;03m        concurrent.futures.CancelledError: if job cancelled before completed.\u001b[39;00m\n\u001b[1;32m    113\u001b[0m \u001b[38;5;124;03m    \"\"\"\u001b[39;00m\n\u001b[0;32m--> 114\u001b[0m     \u001b[38;5;28;01mreturn\u001b[39;00m \u001b[38;5;28;43mself\u001b[39;49m\u001b[38;5;241;43m.\u001b[39;49m\u001b[43m_future\u001b[49m\u001b[38;5;241;43m.\u001b[39;49m\u001b[43mresult\u001b[49m\u001b[43m(\u001b[49m\u001b[43mtimeout\u001b[49m\u001b[38;5;241;43m=\u001b[39;49m\u001b[43mtimeout\u001b[49m\u001b[43m)\u001b[49m\n",
      "File \u001b[0;32m/usr/lib/python3.10/concurrent/futures/_base.py:453\u001b[0m, in \u001b[0;36mFuture.result\u001b[0;34m(self, timeout)\u001b[0m\n\u001b[1;32m    450\u001b[0m \u001b[38;5;28;01melif\u001b[39;00m \u001b[38;5;28mself\u001b[39m\u001b[38;5;241m.\u001b[39m_state \u001b[38;5;241m==\u001b[39m FINISHED:\n\u001b[1;32m    451\u001b[0m     \u001b[38;5;28;01mreturn\u001b[39;00m \u001b[38;5;28mself\u001b[39m\u001b[38;5;241m.\u001b[39m__get_result()\n\u001b[0;32m--> 453\u001b[0m \u001b[38;5;28;43mself\u001b[39;49m\u001b[38;5;241;43m.\u001b[39;49m\u001b[43m_condition\u001b[49m\u001b[38;5;241;43m.\u001b[39;49m\u001b[43mwait\u001b[49m\u001b[43m(\u001b[49m\u001b[43mtimeout\u001b[49m\u001b[43m)\u001b[49m\n\u001b[1;32m    455\u001b[0m \u001b[38;5;28;01mif\u001b[39;00m \u001b[38;5;28mself\u001b[39m\u001b[38;5;241m.\u001b[39m_state \u001b[38;5;129;01min\u001b[39;00m [CANCELLED, CANCELLED_AND_NOTIFIED]:\n\u001b[1;32m    456\u001b[0m     \u001b[38;5;28;01mraise\u001b[39;00m CancelledError()\n",
      "File \u001b[0;32m/usr/lib/python3.10/threading.py:320\u001b[0m, in \u001b[0;36mCondition.wait\u001b[0;34m(self, timeout)\u001b[0m\n\u001b[1;32m    318\u001b[0m \u001b[38;5;28;01mtry\u001b[39;00m:    \u001b[38;5;66;03m# restore state no matter what (e.g., KeyboardInterrupt)\u001b[39;00m\n\u001b[1;32m    319\u001b[0m     \u001b[38;5;28;01mif\u001b[39;00m timeout \u001b[38;5;129;01mis\u001b[39;00m \u001b[38;5;28;01mNone\u001b[39;00m:\n\u001b[0;32m--> 320\u001b[0m         \u001b[43mwaiter\u001b[49m\u001b[38;5;241;43m.\u001b[39;49m\u001b[43macquire\u001b[49m\u001b[43m(\u001b[49m\u001b[43m)\u001b[49m\n\u001b[1;32m    321\u001b[0m         gotit \u001b[38;5;241m=\u001b[39m \u001b[38;5;28;01mTrue\u001b[39;00m\n\u001b[1;32m    322\u001b[0m     \u001b[38;5;28;01melse\u001b[39;00m:\n",
      "\u001b[0;31mKeyboardInterrupt\u001b[0m: "
     ]
    }
   ],
   "source": [
    "theta_opt, losses = training(epochs)"
   ]
  },
  {
   "cell_type": "code",
   "execution_count": null,
   "id": "b599c3e5",
   "metadata": {},
   "outputs": [],
   "source": []
  }
 ],
 "metadata": {
  "kernelspec": {
   "display_name": "Python 3 (ipykernel)",
   "language": "python",
   "name": "python3"
  },
  "language_info": {
   "codemirror_mode": {
    "name": "ipython",
    "version": 3
   },
   "file_extension": ".py",
   "mimetype": "text/x-python",
   "name": "python",
   "nbconvert_exporter": "python",
   "pygments_lexer": "ipython3",
   "version": "3.10.12"
  }
 },
 "nbformat": 4,
 "nbformat_minor": 5
}
