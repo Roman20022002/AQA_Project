{
 "cells": [
  {
   "cell_type": "code",
   "execution_count": null,
   "id": "a8611686-c335-4038-acda-4326461c2d0e",
   "metadata": {},
   "outputs": [],
   "source": [
    "from Loss_function import * "
   ]
  },
  {
   "cell_type": "code",
   "execution_count": null,
   "id": "95beec3e-47a0-4bb7-99b3-550dd0a310a8",
   "metadata": {},
   "outputs": [],
   "source": [
    "losses = []\n",
    "\n",
    "def training(num_iter):\n",
    "\n",
    "    for i in range(num_iter):\n",
    "\n",
    "        dx, f, x = \n",
    "        loss = loss_function(dx, f, x)\n",
    "        losses.append(loss)"
   ]
  }
 ],
 "metadata": {
  "kernelspec": {
   "display_name": "Python 3 (ipykernel)",
   "language": "python",
   "name": "python3"
  },
  "language_info": {
   "codemirror_mode": {
    "name": "ipython",
    "version": 3
   },
   "file_extension": ".py",
   "mimetype": "text/x-python",
   "name": "python",
   "nbconvert_exporter": "python",
   "pygments_lexer": "ipython3",
   "version": "3.11.7"
  }
 },
 "nbformat": 4,
 "nbformat_minor": 5
}
