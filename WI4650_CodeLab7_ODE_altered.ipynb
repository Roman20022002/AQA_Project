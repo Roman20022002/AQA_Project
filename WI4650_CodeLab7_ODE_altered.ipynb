{
 "cells": [
  {
   "cell_type": "markdown",
   "metadata": {
    "collapsed": false,
    "jupyter": {
     "outputs_hidden": false
    }
   },
   "source": [
    "# (WI4650) CodeLab 7 - QML\n",
    "### Problem: QML for ordinary differential equations\n",
    "\n",
    "In this Codelab you will learn how to implement a QML for the ordinary differential equation (ODE) $\\frac{df}{dx}=4x^3+x^2-2x-\\frac122$ with $f(0)=1$ using Qadence.\n",
    "\n",
    "To get started, please do the following:\n",
    "1. Install [Qadence](https://pasqal-io.github.io/qadence/latest/) and some additional Python packages: `pip install jupyterlab qadence`\n",
    "2. Start JubyterLab: `jupyter lab`"
   ]
  },
  {
   "cell_type": "markdown",
   "metadata": {
    "collapsed": false,
    "jupyter": {
     "outputs_hidden": false
    }
   },
   "source": [
    "### A working QML example\n",
    "\n",
    "Qadence is yet another quantum programming package that is particularly useful for developing QML applications."
   ]
  },
  {
   "cell_type": "code",
   "execution_count": 1,
   "metadata": {},
   "outputs": [
    {
     "name": "stderr",
     "output_type": "stream",
     "text": [
      "/usr/lib/python3/dist-packages/scipy/__init__.py:146: UserWarning: A NumPy version >=1.17.3 and <1.25.0 is required for this version of SciPy (detected version 1.26.4\n",
      "  warnings.warn(f\"A NumPy version >={np_minversion} and <{np_maxversion}\"\n",
      "INFO  2024-06-18 16:01:36 - pyqtorch: PyQTorch logger successfully setup with log level 20\n"
     ]
    }
   ],
   "source": [
    "# General imports\n",
    "import matplotlib.pyplot as plt\n",
    "import numpy as np\n",
    "from numpy.random import uniform\n",
    "from qadence import *\n",
    "from torch import nn, optim, tensor, zeros_like, ones_like, linspace, manual_seed\n",
    "from torch.autograd import grad"
   ]
  },
  {
   "cell_type": "markdown",
   "metadata": {},
   "source": [
    "Let us define some global parameters. You can later change these parameters to study how less or more qubits or a deeper quantum network influences the QML's performance."
   ]
  },
  {
   "cell_type": "code",
   "execution_count": 3,
   "metadata": {},
   "outputs": [],
   "source": [
    "manual_seed(42) #  random seed\n",
    "N_QUBITS, DEPTH, LEARNING_RATE, N_POINTS = 6, 5, 0.01, 20"
   ]
  },
  {
   "cell_type": "markdown",
   "metadata": {},
   "source": [
    "An essential part of a QML is the **ansatz**, that is, a parametric circuit whose parameters will be trained. \n",
    "Let us use the **hardware-efficient ansatz** (`hea`)"
   ]
  },
  {
   "cell_type": "code",
   "execution_count": 4,
   "metadata": {},
   "outputs": [],
   "source": [
    "ansatz = hea(n_qubits=N_QUBITS, depth=DEPTH)"
   ]
  },
  {
   "cell_type": "markdown",
   "metadata": {},
   "source": [
    "The other important part is the **feature map**, which encodes the input of our quantum network into the quantum circuit. Here, we use the **Chebyshev feature map**"
   ]
  },
  {
   "cell_type": "code",
   "execution_count": 5,
   "metadata": {},
   "outputs": [],
   "source": [
    "fm = feature_map(n_qubits=N_QUBITS, param=\"x\", fm_type = BasisSet.CHEBYSHEV)"
   ]
  },
  {
   "cell_type": "markdown",
   "metadata": {},
   "source": [
    "Next, we need to define a **cost function**. Don't confuse this with the loss function that encodes our ODE. Let us choose the **transverse-field Ising Hamiltonian**"
   ]
  },
  {
   "cell_type": "code",
   "execution_count": 6,
   "metadata": {},
   "outputs": [],
   "source": [
    "obs = zz_hamiltonian(n_qubits=N_QUBITS)"
   ]
  },
  {
   "cell_type": "markdown",
   "metadata": {},
   "source": [
    "Now we are ready to build the *quantum circuit* and the **QNN model**"
   ]
  },
  {
   "cell_type": "code",
   "execution_count": 7,
   "metadata": {},
   "outputs": [],
   "source": [
    "circuit = QuantumCircuit(N_QUBITS, chain(fm, ansatz))\n",
    "model = QNN(circuit=circuit, observable=obs, inputs=[\"x\"])"
   ]
  },
  {
   "cell_type": "markdown",
   "metadata": {},
   "source": [
    "Let us turn to the classical part of the QNN. First, we need to choose an **optimizer**. Here, we use Adam"
   ]
  },
  {
   "cell_type": "code",
   "execution_count": 8,
   "metadata": {},
   "outputs": [],
   "source": [
    "opt = optim.Adam(model.parameters(), lr=LEARNING_RATE)"
   ]
  },
  {
   "cell_type": "markdown",
   "metadata": {},
   "source": [
    "Next, we need to implement the **loss function**. In our case, we implement the MSE loss function for the ODE $\\frac{df}{dx}=4x^3+x^2-2x-1/2$ with $f(0)=1$"
   ]
  },
  {
   "cell_type": "code",
   "execution_count": 11,
   "metadata": {},
   "outputs": [],
   "source": [
    "def loss_fn(inputs: tensor, outputs: tensor) -> tensor:\n",
    "    dfdx = grad(inputs=inputs, outputs=outputs.sum(), create_graph=True)[0]\n",
    "    ode_loss = dfdx + 8*outputs*(0.1+tensor(np.tan(8*inputs.detach().numpy())))\n",
    "    boundary_loss = model(zeros_like(inputs)) - ones_like(inputs)\n",
    "    return ode_loss.pow(2).mean() + boundary_loss.pow(2).mean()"
   ]
  },
  {
   "cell_type": "markdown",
   "metadata": {},
   "source": [
    "Let us train the QNN for 1000 epochs with randomly samples collocation points between (-1.0, 1.0)"
   ]
  },
  {
   "cell_type": "code",
   "execution_count": 12,
   "metadata": {},
   "outputs": [
    {
     "ename": "RuntimeError",
     "evalue": "Can't call numpy() on Tensor that requires grad. Use tensor.detach().numpy() instead.",
     "output_type": "error",
     "traceback": [
      "\u001b[0;31m---------------------------------------------------------------------------\u001b[0m",
      "\u001b[0;31mRuntimeError\u001b[0m                              Traceback (most recent call last)",
      "Cell \u001b[0;32mIn [12], line 9\u001b[0m\n\u001b[1;32m      4\u001b[0m \u001b[38;5;66;03m# the collocation points are sampled randomly\u001b[39;00m\n\u001b[1;32m      5\u001b[0m cp \u001b[38;5;241m=\u001b[39m tensor(\n\u001b[1;32m      6\u001b[0m     uniform(low\u001b[38;5;241m=\u001b[39m\u001b[38;5;241m0\u001b[39m, high\u001b[38;5;241m=\u001b[39m\u001b[38;5;241m6.28\u001b[39m, size\u001b[38;5;241m=\u001b[39m(N_POINTS, \u001b[38;5;241m1\u001b[39m)), requires_grad\u001b[38;5;241m=\u001b[39m\u001b[38;5;28;01mTrue\u001b[39;00m\n\u001b[1;32m      7\u001b[0m )\u001b[38;5;241m.\u001b[39mfloat()\n\u001b[0;32m----> 9\u001b[0m loss \u001b[38;5;241m=\u001b[39m \u001b[43mloss_fn\u001b[49m\u001b[43m(\u001b[49m\u001b[43minputs\u001b[49m\u001b[38;5;241;43m=\u001b[39;49m\u001b[43mcp\u001b[49m\u001b[43m,\u001b[49m\u001b[43m \u001b[49m\u001b[43moutputs\u001b[49m\u001b[38;5;241;43m=\u001b[39;49m\u001b[43mmodel\u001b[49m\u001b[43m(\u001b[49m\u001b[43mcp\u001b[49m\u001b[43m)\u001b[49m\u001b[43m)\u001b[49m\n\u001b[1;32m     11\u001b[0m \u001b[38;5;28;01mif\u001b[39;00m (epoch \u001b[38;5;241m%\u001b[39m \u001b[38;5;241m50\u001b[39m \u001b[38;5;241m==\u001b[39m \u001b[38;5;241m0\u001b[39m):\n\u001b[1;32m     12\u001b[0m     \u001b[38;5;28mprint\u001b[39m(epoch, loss\u001b[38;5;241m.\u001b[39mitem())\n",
      "Cell \u001b[0;32mIn [11], line 3\u001b[0m, in \u001b[0;36mloss_fn\u001b[0;34m(inputs, outputs)\u001b[0m\n\u001b[1;32m      1\u001b[0m \u001b[38;5;28;01mdef\u001b[39;00m \u001b[38;5;21mloss_fn\u001b[39m(inputs: tensor, outputs: tensor) \u001b[38;5;241m-\u001b[39m\u001b[38;5;241m>\u001b[39m tensor:\n\u001b[1;32m      2\u001b[0m     dfdx \u001b[38;5;241m=\u001b[39m grad(inputs\u001b[38;5;241m=\u001b[39minputs, outputs\u001b[38;5;241m=\u001b[39moutputs\u001b[38;5;241m.\u001b[39msum(), create_graph\u001b[38;5;241m=\u001b[39m\u001b[38;5;28;01mTrue\u001b[39;00m)[\u001b[38;5;241m0\u001b[39m]\n\u001b[0;32m----> 3\u001b[0m     ode_loss \u001b[38;5;241m=\u001b[39m dfdx \u001b[38;5;241m+\u001b[39m \u001b[38;5;241m8\u001b[39m\u001b[38;5;241m*\u001b[39moutputs\u001b[38;5;241m*\u001b[39m(\u001b[38;5;241m0.1\u001b[39m\u001b[38;5;241m+\u001b[39mtensor(\u001b[43mnp\u001b[49m\u001b[38;5;241;43m.\u001b[39;49m\u001b[43mtan\u001b[49m\u001b[43m(\u001b[49m\u001b[38;5;241;43m8\u001b[39;49m\u001b[38;5;241;43m*\u001b[39;49m\u001b[43minputs\u001b[49m\u001b[43m)\u001b[49m))\n\u001b[1;32m      4\u001b[0m     boundary_loss \u001b[38;5;241m=\u001b[39m model(zeros_like(inputs)) \u001b[38;5;241m-\u001b[39m ones_like(inputs)\n\u001b[1;32m      5\u001b[0m     \u001b[38;5;28;01mreturn\u001b[39;00m ode_loss\u001b[38;5;241m.\u001b[39mpow(\u001b[38;5;241m2\u001b[39m)\u001b[38;5;241m.\u001b[39mmean() \u001b[38;5;241m+\u001b[39m boundary_loss\u001b[38;5;241m.\u001b[39mpow(\u001b[38;5;241m2\u001b[39m)\u001b[38;5;241m.\u001b[39mmean()\n",
      "File \u001b[0;32m~/.local/lib/python3.10/site-packages/torch/_tensor.py:1087\u001b[0m, in \u001b[0;36mTensor.__array__\u001b[0;34m(self, dtype)\u001b[0m\n\u001b[1;32m   1085\u001b[0m     \u001b[38;5;28;01mreturn\u001b[39;00m handle_torch_function(Tensor\u001b[38;5;241m.\u001b[39m__array__, (\u001b[38;5;28mself\u001b[39m,), \u001b[38;5;28mself\u001b[39m, dtype\u001b[38;5;241m=\u001b[39mdtype)\n\u001b[1;32m   1086\u001b[0m \u001b[38;5;28;01mif\u001b[39;00m dtype \u001b[38;5;129;01mis\u001b[39;00m \u001b[38;5;28;01mNone\u001b[39;00m:\n\u001b[0;32m-> 1087\u001b[0m     \u001b[38;5;28;01mreturn\u001b[39;00m \u001b[38;5;28;43mself\u001b[39;49m\u001b[38;5;241;43m.\u001b[39;49m\u001b[43mnumpy\u001b[49m\u001b[43m(\u001b[49m\u001b[43m)\u001b[49m\n\u001b[1;32m   1088\u001b[0m \u001b[38;5;28;01melse\u001b[39;00m:\n\u001b[1;32m   1089\u001b[0m     \u001b[38;5;28;01mreturn\u001b[39;00m \u001b[38;5;28mself\u001b[39m\u001b[38;5;241m.\u001b[39mnumpy()\u001b[38;5;241m.\u001b[39mastype(dtype, copy\u001b[38;5;241m=\u001b[39m\u001b[38;5;28;01mFalse\u001b[39;00m)\n",
      "\u001b[0;31mRuntimeError\u001b[0m: Can't call numpy() on Tensor that requires grad. Use tensor.detach().numpy() instead."
     ]
    }
   ],
   "source": [
    "for epoch in range(250):\n",
    "    opt.zero_grad()\n",
    "\n",
    "    # the collocation points are sampled randomly\n",
    "    cp = tensor(\n",
    "        uniform(low=0, high=6.28, size=(N_POINTS, 1)), requires_grad=True\n",
    "    ).float()\n",
    "    \n",
    "    loss = loss_fn(inputs=cp, outputs=model(cp))\n",
    "    \n",
    "    if (epoch % 50 == 0):\n",
    "        print(epoch, loss.item())\n",
    "        \n",
    "    loss.backward()\n",
    "    opt.step()"
   ]
  },
  {
   "cell_type": "markdown",
   "metadata": {},
   "source": [
    "To compare the quality of the learned solution, we also create the analytic one"
   ]
  },
  {
   "cell_type": "code",
   "execution_count": 46,
   "metadata": {},
   "outputs": [],
   "source": [
    "sample_points = linspace(-1.0, 1.0, steps=100).reshape(-1, 1)\n",
    "analytic_sol = (\n",
    "    sample_points**4\n",
    "    + (1 / 3) * sample_points**3\n",
    "    - sample_points**2\n",
    "    - (1 / 2) * sample_points\n",
    "    + 1\n",
    ")"
   ]
  },
  {
   "cell_type": "markdown",
   "metadata": {},
   "source": [
    "Now, let us evaluate the solution predicted by the QNN"
   ]
  },
  {
   "cell_type": "code",
   "execution_count": 47,
   "metadata": {},
   "outputs": [],
   "source": [
    "dqc_sol = model(sample_points).detach().numpy()\n",
    "x_data = sample_points.detach().numpy()"
   ]
  },
  {
   "cell_type": "markdown",
   "metadata": {},
   "source": [
    "As a last step, let's have a look at the two solutions"
   ]
  },
  {
   "cell_type": "code",
   "execution_count": 48,
   "metadata": {},
   "outputs": [
    {
     "data": {
      "image/png": "[encoded data removed]",
      "text/plain": [
       "<Figure size 400x400 with 1 Axes>"
      ]
     },
     "metadata": {},
     "output_type": "display_data"
    }
   ],
   "source": [
    "plt.figure(figsize=(4, 4))\n",
    "plt.plot(x_data, analytic_sol.flatten(), color=\"gray\", label=\"Exact solution\")\n",
    "plt.plot(x_data, dqc_sol.flatten(), color=\"orange\", label=\"DQC solution\")\n",
    "plt.xlabel(\"x\")\n",
    "plt.ylabel(\"df | dx\")\n",
    "plt.title(\"Simple ODE\")\n",
    "plt.legend()\n",
    "plt.show()"
   ]
  },
  {
   "cell_type": "markdown",
   "metadata": {},
   "source": [
    "### Part A)\n",
    "\n",
    "Now it's your turn to explore the influence of the different parts on the QNN's performance."
   ]
  },
  {
   "cell_type": "markdown",
   "metadata": {},
   "source": [
    "**A1)** Increase/decrease the number of qubits (`N_QUBITS`) and leave all other parameters unchanged. Does this change the performance of the QNN?"
   ]
  },
  {
   "cell_type": "code",
   "execution_count": null,
   "metadata": {},
   "outputs": [],
   "source": []
  },
  {
   "cell_type": "markdown",
   "metadata": {},
   "source": [
    "**A2)** Increase/decrease the depth of the ansatz (`DEPTH`) and leave all other parameters unchanged. Does this change the performance of the QNN?"
   ]
  },
  {
   "cell_type": "code",
   "execution_count": null,
   "metadata": {},
   "outputs": [],
   "source": []
  },
  {
   "cell_type": "markdown",
   "metadata": {},
   "source": [
    "**A3)** Try the Fourier feature maps (`BasisSet.FOURIER`) as an alternative to the Chebyshev one. Does this change the performance of the QNN?"
   ]
  },
  {
   "cell_type": "code",
   "execution_count": null,
   "metadata": {},
   "outputs": [],
   "source": []
  },
  {
   "cell_type": "markdown",
   "metadata": {},
   "source": [
    "**A4)** Try one of the other optimizers, e.g., `optim.LBFGS`, `optim.RMSprop`, or `optim.SGD`. Does this change speed of the training process?"
   ]
  },
  {
   "cell_type": "code",
   "execution_count": null,
   "metadata": {},
   "outputs": [],
   "source": []
  },
  {
   "cell_type": "markdown",
   "metadata": {},
   "source": [
    "### Part B)\n",
    "\n",
    "In this part, you will implement a QNN for a different ODE, namely, $\\frac{df}{dy}=\\cos(x)$ with $y(0)=0$"
   ]
  },
  {
   "cell_type": "code",
   "execution_count": null,
   "metadata": {},
   "outputs": [],
   "source": []
  }
 ],
 "metadata": {
  "kernelspec": {
   "display_name": "Python 3 (ipykernel)",
   "language": "python",
   "name": "python3"
  },
  "language_info": {
   "codemirror_mode": {
    "name": "ipython",
    "version": 3
   },
   "file_extension": ".py",
   "mimetype": "text/x-python",
   "name": "python",
   "nbconvert_exporter": "python",
   "pygments_lexer": "ipython3",
   "version": "3.10.12"
  }
 },
 "nbformat": 4,
 "nbformat_minor": 4
}
