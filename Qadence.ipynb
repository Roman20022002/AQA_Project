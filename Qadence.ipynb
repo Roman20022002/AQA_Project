{
 "cells": [
  {
   "cell_type": "markdown",
   "metadata": {
    "collapsed": false,
    "jupyter": {
     "outputs_hidden": false
    }
   },
   "source": [
    "# (WI4650) CodeLab 7 - QML\n",
    "### Problem: QML for ordinary differential equations\n",
    "\n",
    "In this Codelab you will learn how to implement a QML for the ordinary differential equation (ODE) $\\frac{df}{dx}=4x^3+x^2-2x-\\frac122$ with $f(0)=1$ using Qadence.\n",
    "\n",
    "To get started, please do the following:\n",
    "1. Install [Qadence](https://pasqal-io.github.io/qadence/latest/) and some additional Python packages: `pip install jupyterlab qadence`\n",
    "2. Start JubyterLab: `jupyter lab`"
   ]
  },
  {
   "cell_type": "markdown",
   "metadata": {
    "collapsed": false,
    "jupyter": {
     "outputs_hidden": false
    }
   },
   "source": [
    "### A working QML example\n",
    "\n",
    "Qadence is yet another quantum programming package that is particularly useful for developing QML applications."
   ]
  },
  {
   "cell_type": "code",
   "execution_count": 25,
   "metadata": {},
   "outputs": [],
   "source": [
    "# General imports\n",
    "import matplotlib.pyplot as plt\n",
    "import numpy as np\n",
    "from numpy.random import uniform\n",
    "from qadence import *\n",
    "import torch\n",
    "from torch import nn, optim, tensor, zeros_like, ones_like, linspace, manual_seed\n",
    "from torch.autograd import grad"
   ]
  },
  {
   "cell_type": "markdown",
   "metadata": {},
   "source": [
    "Let us define some global parameters. You can later change these parameters to study how less or more qubits or a deeper quantum network influences the QML's performance."
   ]
  },
  {
   "cell_type": "code",
   "execution_count": 13,
   "metadata": {},
   "outputs": [],
   "source": [
    "manual_seed(404) #  random seed\n",
    "N_QUBITS, DEPTH, LEARNING_RATE, N_POINTS = 6, 5, 0.01, 20 #4, 3, 0.01, 20"
   ]
  },
  {
   "cell_type": "markdown",
   "metadata": {},
   "source": [
    "An essential part of a QML is the **ansatz**, that is, a parametric circuit whose parameters will be trained. \n",
    "Let us use the **hardware-efficient ansatz** (`hea`)"
   ]
  },
  {
   "cell_type": "code",
   "execution_count": 14,
   "metadata": {},
   "outputs": [],
   "source": [
    "ansatz = hea(n_qubits=N_QUBITS, depth=DEPTH)"
   ]
  },
  {
   "cell_type": "markdown",
   "metadata": {},
   "source": [
    "The other important part is the **feature map**, which encodes the input of our quantum network into the quantum circuit. Here, we use the **Chebyshev feature map**"
   ]
  },
  {
   "cell_type": "code",
   "execution_count": 15,
   "metadata": {},
   "outputs": [],
   "source": [
    "fm = feature_map(n_qubits=N_QUBITS, param=\"x\", fm_type = BasisSet.CHEBYSHEV)"
   ]
  },
  {
   "cell_type": "markdown",
   "metadata": {},
   "source": [
    "Next, we need to define a **cost function**. Don't confuse this with the loss function that encodes our ODE. Let us choose the **transverse-field Ising Hamiltonian**"
   ]
  },
  {
   "cell_type": "code",
   "execution_count": 16,
   "metadata": {},
   "outputs": [],
   "source": [
    "obs = ising_hamiltonian(n_qubits=N_QUBITS)"
   ]
  },
  {
   "cell_type": "markdown",
   "metadata": {},
   "source": [
    "Now we are ready to build the *quantum circuit* and the **QNN model**"
   ]
  },
  {
   "cell_type": "code",
   "execution_count": 19,
   "metadata": {},
   "outputs": [],
   "source": [
    "circuit = QuantumCircuit(N_QUBITS, chain(fm, ansatz))\n",
    "model = QNN(circuit=circuit, observable=obs, inputs=[\"x\"])"
   ]
  },
  {
   "cell_type": "markdown",
   "metadata": {},
   "source": [
    "Let us turn to the classical part of the QNN. First, we need to choose an **optimizer**. Here, we use Adam"
   ]
  },
  {
   "cell_type": "code",
   "execution_count": 20,
   "metadata": {},
   "outputs": [],
   "source": [
    "opt = optim.Adam(model.parameters(), lr=LEARNING_RATE)"
   ]
  },
  {
   "cell_type": "markdown",
   "metadata": {},
   "source": [
    "Next, we need to implement the **loss function**. In our case, we implement the MSE loss function for the ODE $\\frac{df}{dx}=4x^3+x^2-2x-1/2$ with $f(0)=1$"
   ]
  },
  {
   "cell_type": "code",
   "execution_count": 26,
   "metadata": {},
   "outputs": [],
   "source": [
    "def loss_fn(inputs: tensor, outputs: tensor) -> tensor:\n",
    "    dfdx = grad(inputs=inputs, outputs=outputs.sum(), create_graph=True)[0]\n",
    "    ode_loss = dfdx + 8*outputs*(0.1+torch.tan(8*inputs)) - 0  #dfdx - (4 * inputs**3 + inputs**2 - 2 * inputs - 0.5)\n",
    "    boundary_loss = model(zeros_like(inputs)) - ones_like(inputs)\n",
    "    return ode_loss.pow(2).mean() + boundary_loss.pow(2).mean() "
   ]
  },
  {
   "cell_type": "markdown",
   "metadata": {},
   "source": [
    "Let us train the QNN for 1000 epochs with randomly samples collocation points between (-1.0, 1.0)"
   ]
  },
  {
   "cell_type": "code",
   "execution_count": 28,
   "metadata": {},
   "outputs": [
    {
     "name": "stdout",
     "output_type": "stream",
     "text": [
      "0 78.05384639864488\n",
      "50 26.785709140472274\n",
      "100 40218075.13620537\n",
      "150 5.725987681769591\n",
      "200 35.972301802163464\n",
      "250 5.537385876188349\n",
      "300 6.828145458967664\n",
      "350 429.75462976300804\n",
      "400 1657.3977980594998\n",
      "450 21998.00338965503\n",
      "500 535.486402410178\n",
      "550 1960.2575017755478\n",
      "600 2394.6170911693202\n",
      "650 1008.8991273579292\n",
      "700 4797.49923938415\n",
      "750 2882.825065769709\n",
      "800 12.273454160388969\n",
      "850 249.53950690266288\n",
      "900 9.236915780755073\n",
      "950 199.99770265325319\n"
     ]
    }
   ],
   "source": [
    "for epoch in range(1000):\n",
    "    opt.zero_grad()\n",
    "\n",
    "    # the collocation points are sampled randomly\n",
    "    cp = tensor(\n",
    "        uniform(low=0, high=0.9, size=(N_POINTS, 1)), requires_grad=True\n",
    "    ).float()\n",
    "    \n",
    "    loss = loss_fn(inputs=cp, outputs=model(cp))\n",
    "    \n",
    "    if (epoch % 50 == 0):\n",
    "        print(epoch, loss.item())\n",
    "        \n",
    "    loss.backward()\n",
    "    opt.step()"
   ]
  },
  {
   "cell_type": "markdown",
   "metadata": {},
   "source": [
    "To compare the quality of the learned solution, we also create the analytic one"
   ]
  },
  {
   "cell_type": "code",
   "execution_count": 34,
   "metadata": {},
   "outputs": [
    {
     "data": {
      "text/plain": [
       "'\\n(sample_points**4\\n+ (1 / 3) * sample_points**3\\n- sample_points**2\\n- (1 / 2) * sample_points\\n+ 1)\\n'"
      ]
     },
     "execution_count": 34,
     "metadata": {},
     "output_type": "execute_result"
    }
   ],
   "source": [
    "sample_points = linspace(0.0, 0.9, steps=100).reshape(-1, 1)\n",
    "analytic_sol = torch.exp(-0.1*8*sample_points)*torch.cos(8*sample_points) + 1\n",
    "    \n",
    "'''\n",
    "(sample_points**4\n",
    "+ (1 / 3) * sample_points**3\n",
    "- sample_points**2\n",
    "- (1 / 2) * sample_points\n",
    "+ 1)\n",
    "'''"
   ]
  },
  {
   "cell_type": "markdown",
   "metadata": {},
   "source": [
    "Now, let us evaluate the solution predicted by the QNN"
   ]
  },
  {
   "cell_type": "code",
   "execution_count": 35,
   "metadata": {},
   "outputs": [],
   "source": [
    "dqc_sol = model(sample_points).detach().numpy()\n",
    "x_data = sample_points.detach().numpy()"
   ]
  },
  {
   "cell_type": "markdown",
   "metadata": {},
   "source": [
    "As a last step, let's have a look at the two solutions"
   ]
  },
  {
   "cell_type": "code",
   "execution_count": 36,
   "metadata": {},
   "outputs": [
    {
     "data": {
      "image/png": "[encoded data removed]",
      "text/plain": [
       "<Figure size 400x400 with 1 Axes>"
      ]
     },
     "metadata": {},
     "output_type": "display_data"
    }
   ],
   "source": [
    "plt.figure(figsize=(4, 4))\n",
    "plt.plot(x_data, analytic_sol.flatten(), color=\"gray\", label=\"Exact solution\")\n",
    "plt.plot(x_data, dqc_sol.flatten(), color=\"orange\", label=\"DQC solution\")\n",
    "plt.xlabel(\"x\")\n",
    "plt.ylabel(\"df | dx\")\n",
    "plt.title(\"Simple ODE\")\n",
    "plt.legend()\n",
    "plt.show()"
   ]
  },
  {
   "cell_type": "markdown",
   "metadata": {},
   "source": [
    "### Part A)\n",
    "\n",
    "Now it's your turn to explore the influence of the different parts on the QNN's performance."
   ]
  },
  {
   "cell_type": "markdown",
   "metadata": {},
   "source": [
    "**A1)** Increase/decrease the number of qubits (`N_QUBITS`) and leave all other parameters unchanged. Does this change the performance of the QNN?"
   ]
  },
  {
   "cell_type": "code",
   "execution_count": null,
   "metadata": {},
   "outputs": [],
   "source": []
  },
  {
   "cell_type": "markdown",
   "metadata": {},
   "source": [
    "**A2)** Increase/decrease the depth of the ansatz (`DEPTH`) and leave all other parameters unchanged. Does this change the performance of the QNN?"
   ]
  },
  {
   "cell_type": "code",
   "execution_count": null,
   "metadata": {},
   "outputs": [],
   "source": []
  },
  {
   "cell_type": "markdown",
   "metadata": {},
   "source": [
    "**A3)** Try the Fourier feature maps (`BasisSet.FOURIER`) as an alternative to the Chebyshev one. Does this change the performance of the QNN?"
   ]
  },
  {
   "cell_type": "code",
   "execution_count": null,
   "metadata": {},
   "outputs": [],
   "source": []
  },
  {
   "cell_type": "markdown",
   "metadata": {},
   "source": [
    "**A4)** Try one of the other optimizers, e.g., `optim.LBFGS`, `optim.RMSprop`, or `optim.SGD`. Does this change speed of the training process?"
   ]
  },
  {
   "cell_type": "code",
   "execution_count": null,
   "metadata": {},
   "outputs": [],
   "source": []
  },
  {
   "cell_type": "markdown",
   "metadata": {},
   "source": [
    "### Part B)\n",
    "\n",
    "In this part, you will implement a QNN for a different ODE, namely, $\\frac{df}{dy}=\\cos(x)$ with $y(0)=0$"
   ]
  },
  {
   "cell_type": "code",
   "execution_count": null,
   "metadata": {},
   "outputs": [],
   "source": []
  }
 ],
 "metadata": {
  "kernelspec": {
   "display_name": "Python 3 (ipykernel)",
   "language": "python",
   "name": "python3"
  },
  "language_info": {
   "codemirror_mode": {
    "name": "ipython",
    "version": 3
   },
   "file_extension": ".py",
   "mimetype": "text/x-python",
   "name": "python",
   "nbconvert_exporter": "python",
   "pygments_lexer": "ipython3",
   "version": "3.11.7"
  }
 },
 "nbformat": 4,
 "nbformat_minor": 4
}
