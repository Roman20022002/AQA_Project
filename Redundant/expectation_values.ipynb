{
 "cells": [
  {
   "cell_type": "code",
   "execution_count": 13,
   "metadata": {},
   "outputs": [],
   "source": [
    "from feature_map import *\n",
    "from VQC import *\n",
    "import numpy as np\n",
    "import qiskit as qk\n",
    "from qiskit_aer import AerSimulator"
   ]
  },
  {
   "cell_type": "code",
   "execution_count": 14,
   "metadata": {},
   "outputs": [],
   "source": [
    "#Parameters\n",
    "n = 3\n",
    "l = 2\n",
    "Theta = 2*np.pi*np.random.random(n*l*3)\n",
    "\n",
    "def create_circuit(x,n,l,Theta,label):\n",
    "    qc = qk.QuantumCircuit(n)\n",
    "    qc = U(qc, x, n, label)\n",
    "    qc.barrier()\n",
    "    qc = HEA(qc, Theta, n, l)\n",
    "    return qc"
   ]
  },
  {
   "cell_type": "code",
   "execution_count": 15,
   "metadata": {},
   "outputs": [],
   "source": [
    "shots = 1024\n",
    "\n",
    "def expect_value(qc, shots):\n",
    "    #run circuit\n",
    "    simulator = AerSimulator()\n",
    "    result = simulator.run(qc,shots=shots).result()\n",
    "\n",
    "\n",
    "    #Get counts and normalize them\n",
    "    counts = result.get_counts()\n",
    "    total_counts = sum(counts.values())\n",
    "    counts_normalized = {state: counts[state]/total_counts for state in counts}\n",
    "\n",
    "    #Get keys of dictionary\n",
    "    keys = list(counts_normalized.keys())\n",
    "\n",
    "    #Calculate expectation value of Z^n \n",
    "    expectation_value = 0\n",
    "    for i in range(len(keys)):\n",
    "        tmp = keys[i]\n",
    "\n",
    "        #Extract number of zeros and ones\n",
    "        num_zeros = tmp.count('0')\n",
    "        num_ones = tmp.count('1')\n",
    "\n",
    "        #Determine eigenvalue of operator\n",
    "        eigenvalue = 1**num_zeros * (-1)**num_ones\n",
    "        \n",
    "        #Add to expectation value\n",
    "        expectation_value += eigenvalue * counts_normalized.get(tmp)\n",
    "    return expectation_value\n"
   ]
  },
  {
   "cell_type": "code",
   "execution_count": 16,
   "metadata": {},
   "outputs": [],
   "source": [
    "def f_func(x,n,l,Theta,shots):\n",
    "    label = 0\n",
    "    circuit = create_circuit(x,n,l,Theta,label)\n",
    "    expectation = expect_value(circuit,shots)\n",
    "    return expectation\n",
    "\n",
    "def dphi(x):\n",
    "    return -1/np.sqrt(1-x**2)\n",
    "\n",
    "def df_func(x,n,l,Theta,shots):\n",
    "    C_plus = 0 \n",
    "    C_minus = 0\n",
    "    for i in range(1,2*n+1):\n",
    "        if i <= n:\n",
    "            circuit = create_circuit(x,n,l,Theta,i)\n",
    "            expectation = expect_value(circuit,shots)\n",
    "            C_plus += expectation\n",
    "        else:\n",
    "            circuit = create_circuit(x,n,l,Theta,i)\n",
    "            expectation = expect_value(circuit,shots)\n",
    "            C_minus += expectation\n",
    "\n",
    "    return 1/4*dphi(x)*(C_plus-C_minus)"
   ]
  },
  {
   "cell_type": "code",
   "execution_count": 17,
   "metadata": {},
   "outputs": [
    {
     "name": "stdout",
     "output_type": "stream",
     "text": [
      "[-0.33203125 -0.16601562  0.02539062  0.15820312  0.15039062  0.07617188\n",
      " -0.35546875 -0.6953125  -0.921875   -0.60546875] [ 0.21679688  0.37001881  0.37774927  0.27998623  0.05167758 -0.29318568\n",
      " -0.54931641 -0.53262607 -0.12695313  0.77629445]\n"
     ]
    }
   ],
   "source": [
    "x = np.linspace(0,0.9,10)\n",
    "\n",
    "def func_and_deriv(x,n,l,Theta,shots):\n",
    "    f = []\n",
    "    df = []\n",
    "\n",
    "    for i in x:\n",
    "        f.append(f_func(i,n,l,Theta,shots))\n",
    "        df.append(df_func(i,n,l,Theta,shots))\n",
    "    \n",
    "    return np.array(f), np.array(df)\n",
    "\n",
    "f, df = func_and_deriv(x,n,l,Theta,shots)\n",
    "\n",
    "print(f,df)\n",
    "\n",
    "\n",
    "\n"
   ]
  },
  {
   "cell_type": "code",
   "execution_count": null,
   "metadata": {},
   "outputs": [],
   "source": []
  }
 ],
 "metadata": {
  "kernelspec": {
   "display_name": "AQA",
   "language": "python",
   "name": "python3"
  },
  "language_info": {
   "codemirror_mode": {
    "name": "ipython",
    "version": 3
   },
   "file_extension": ".py",
   "mimetype": "text/x-python",
   "name": "python",
   "nbconvert_exporter": "python",
   "pygments_lexer": "ipython3",
   "version": "3.10.12"
  }
 },
 "nbformat": 4,
 "nbformat_minor": 2
}
