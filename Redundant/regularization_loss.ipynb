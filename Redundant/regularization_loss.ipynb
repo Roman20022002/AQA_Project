{
 "cells": [
  {
   "cell_type": "code",
   "execution_count": 3,
   "metadata": {},
   "outputs": [],
   "source": [
    "import numpy as np\n",
    "from pennylane_functions import func_and_deriv\n",
    "import matplotlib.pyplot as plt"
   ]
  },
  {
   "cell_type": "code",
   "execution_count": 25,
   "metadata": {},
   "outputs": [],
   "source": [
    "def u(x, x0, u0, kappa, lam):\n",
    "    u_tilde = np.exp(-kappa*lam*x0)*np.cos(lam*x0)\n",
    "    const = u0 - u_tilde\n",
    "    return np.exp(-kappa*lam*x)*np.cos(lam*x) + const\n",
    "\n",
    "x = np.linspace(0,0.9,20)\n",
    "x0 = 0\n",
    "u0 = 1\n",
    "kappa = 0.1\n",
    "lam = 20\n",
    "\n",
    "u_vals = u(x, x0, u0, kappa, lam)\n",
    "\n",
    "def lin_reg(i, epochs):\n",
    "    return 1 - i/epochs\n",
    "\n",
    "def loss_reg(x, num_qubits, theta, l, n_iter, epochs, x0=0, u0=1, kappa=0.1, lam=20, step = 4):\n",
    "    sigm = lin_reg(n_iter, epochs)\n",
    "    x_reg = x[::step]\n",
    "\n",
    "    f_reg, df_reg = func_and_deriv(x_reg, num_qubits, theta, l)\n",
    "    u_reg = u(x_reg, x0, u0, kappa, lam)\n",
    "\n",
    "    loss_array = sigm*(f_reg - u_reg)**2\n",
    "\n",
    "    return np.sum(loss_array)"
   ]
  },
  {
   "cell_type": "code",
   "execution_count": 26,
   "metadata": {},
   "outputs": [],
   "source": [
    "#Set seed:\n",
    "RANDOM_STATE = 42\n",
    "seed = np.random.seed(RANDOM_STATE)\n",
    "\n",
    "#Define parameters\n",
    "epochs = 10\n",
    "shots_simulator = 1024 #number simulator runs\n",
    "num_qubits = 6 #number of qubits\n",
    "l = 5 #depth of variational circuit\n",
    "init_theta = 2*np.pi*np.random.random(num_qubits*l*3)"
   ]
  },
  {
   "cell_type": "code",
   "execution_count": 30,
   "metadata": {},
   "outputs": [
    {
     "data": {
      "text/plain": [
       "tensor(0., requires_grad=True)"
      ]
     },
     "execution_count": 30,
     "metadata": {},
     "output_type": "execute_result"
    }
   ],
   "source": [
    "loss_reg(x, num_qubits, init_theta, l, 10, epochs)"
   ]
  },
  {
   "cell_type": "code",
   "execution_count": null,
   "metadata": {},
   "outputs": [],
   "source": []
  }
 ],
 "metadata": {
  "kernelspec": {
   "display_name": "AQA",
   "language": "python",
   "name": "python3"
  },
  "language_info": {
   "codemirror_mode": {
    "name": "ipython",
    "version": 3
   },
   "file_extension": ".py",
   "mimetype": "text/x-python",
   "name": "python",
   "nbconvert_exporter": "python",
   "pygments_lexer": "ipython3",
   "version": "3.10.12"
  }
 },
 "nbformat": 4,
 "nbformat_minor": 2
}
