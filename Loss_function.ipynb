{
 "cells": [
  {
   "cell_type": "code",
   "execution_count": 7,
   "id": "817de0bf-65cb-4b7b-b6f3-c6760c1df17b",
   "metadata": {},
   "outputs": [],
   "source": [
    "def MSE(dx, f, x, val, lamb=8, k=0.1):\n",
    "\n",
    "    a = dx + lamb*f*(k + np.tan(lamb*x))\n",
    "    b = val\n",
    "\n",
    "    loss = (a-b)**2\n",
    "\n",
    "    return loss\n",
    "    "
   ]
  },
  {
   "cell_type": "code",
   "execution_count": 8,
   "id": "41fa87c8-c00c-4e72-9b04-632949e59ae8",
   "metadata": {},
   "outputs": [],
   "source": [
    "def diff_loss(dx, f, x):\n",
    "\n",
    "    loss = np.sum(MSE(dx, f, x, val=0)) / len(x)\n",
    "\n",
    "    return loss\n"
   ]
  },
  {
   "cell_type": "code",
   "execution_count": 9,
   "id": "b915442c-8060-4b06-9aec-c73dde9f44d6",
   "metadata": {},
   "outputs": [],
   "source": [
    "def boundary_loss(f0, u0=1, nabla=2):\n",
    "\n",
    "    loss = nabla*(f0-u0)**2\n",
    "\n",
    "    return loss\n",
    "\n",
    "    "
   ]
  },
  {
   "cell_type": "code",
   "execution_count": 10,
   "id": "c1058b7d-f982-4860-93cb-c524ca08dd97",
   "metadata": {},
   "outputs": [],
   "source": [
    "def loss_function(dx, f, x):\n",
    "\n",
    "    loss = diff_loss(dx, f, x) + boundary_loss(f[0])\n",
    "\n",
    "    return loss\n",
    "    "
   ]
  }
 ],
 "metadata": {
  "kernelspec": {
   "display_name": "Python 3 (ipykernel)",
   "language": "python",
   "name": "python3"
  },
  "language_info": {
   "codemirror_mode": {
    "name": "ipython",
    "version": 3
   },
   "file_extension": ".py",
   "mimetype": "text/x-python",
   "name": "python",
   "nbconvert_exporter": "python",
   "pygments_lexer": "ipython3",
   "version": "3.11.7"
  }
 },
 "nbformat": 4,
 "nbformat_minor": 5
}
