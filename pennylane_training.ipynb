{
 "cells": [
  {
   "cell_type": "code",
   "execution_count": null,
   "metadata": {},
   "outputs": [],
   "source": [
    "from pennylane_functions import loss_function, func_and_deriv\n",
    "from pennylane import numpy as np\n",
    "import pennylane as qml\n",
    "import matplotlib.pyplot as plt\n"
   ]
  },
  {
   "cell_type": "code",
   "execution_count": null,
   "metadata": {},
   "outputs": [],
   "source": [
    "#Set seed:\n",
    "RANDOM_STATE = 42\n",
    "seed = np.random.seed(RANDOM_STATE)\n",
    "\n",
    "epochs = 10\n",
    "num_qubits = 2\n",
    "x = np.linspace(0,0.9,20)\n",
    "l = 2"
   ]
  },
  {
   "cell_type": "code",
   "execution_count": null,
   "metadata": {},
   "outputs": [],
   "source": [
    "def training(epochs):\n",
    "    losses = []\n",
    "    theta = np.array(2*np.pi*np.random.random(num_qubits*l*3), requires_grad=True)\n",
    "    for i in range(epochs):\n",
    "        print(\"epoch number = \", i)\n",
    "        loss = loss_function(x,num_qubits,theta, l)\n",
    "        print(\"Current loss:\", loss)\n",
    "        losses.append(loss)\n",
    "        optimizer = qml.AdamOptimizer()\n",
    "        theta, cost_val = optimizer.step_and_cost(lambda theta: loss_function(x,num_qubits,theta, l), theta)\n",
    "        print(\"Finished optimizing.\")\n",
    "        print()\n",
    "\n",
    "    return theta, losses"
   ]
  },
  {
   "cell_type": "code",
   "execution_count": null,
   "metadata": {},
   "outputs": [],
   "source": [
    "theta_opt, losses = training(epochs)\n",
    "\n",
    "#Plot the results\n",
    "plt.plot(losses)\n",
    "plt.xlabel(\"Iterations\")\n",
    "plt.ylabel(\"Loss\")\n",
    "plt.title(\"Loss over iterations\")\n",
    "plt.show()\n",
    "\n",
    "f, df = func_and_deriv(x, num_qubits, theta_opt, l)\n",
    "\n",
    "plt.plot(x, f, label=\"f\")\n",
    "plt.xlabel(\"x\")\n",
    "plt.ylabel(\"f(x)\")\n",
    "plt.legend()\n",
    "plt.show()"
   ]
  }
 ],
 "metadata": {
  "kernelspec": {
   "display_name": "AQA",
   "language": "python",
   "name": "python3"
  },
  "language_info": {
   "codemirror_mode": {
    "name": "ipython",
    "version": 3
   },
   "file_extension": ".py",
   "mimetype": "text/x-python",
   "name": "python",
   "nbconvert_exporter": "python",
   "pygments_lexer": "ipython3",
   "version": "3.10.-1"
  }
 },
 "nbformat": 4,
 "nbformat_minor": 2
}
