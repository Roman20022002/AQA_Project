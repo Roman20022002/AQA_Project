{
 "cells": [
  {
   "cell_type": "code",
   "execution_count": null,
   "metadata": {},
   "outputs": [],
   "source": [
    "from pennylane_functions import loss_function, func_and_deriv, u\n",
    "from pennylane import numpy as np\n",
    "import pennylane as qml\n",
    "import matplotlib.pyplot as plt"
   ]
  },
  {
   "cell_type": "code",
   "execution_count": null,
   "metadata": {},
   "outputs": [],
   "source": [
    "#Set seed:\n",
    "RANDOM_STATE = 42\n",
    "seed = np.random.seed(RANDOM_STATE)\n",
    "\n",
    "epochs = 250\n",
    "num_qubits = 6\n",
    "x = np.linspace(0,0.9,20)\n",
    "l = 5\n",
    "x0 = 0 \n",
    "u0 = 1\n",
    "lam = 20\n",
    "kappa = 0.1"
   ]
  },
  {
   "cell_type": "code",
   "execution_count": null,
   "metadata": {},
   "outputs": [],
   "source": [
    "def training(epochs):\n",
    "    losses = []\n",
    "    theta = np.array(2*np.pi*np.random.random(num_qubits*l*3), requires_grad=True)\n",
    "    for i in range(epochs):\n",
    "        print(\"epoch number = \", i)\n",
    "        loss = loss_function(x,num_qubits,theta, l, i, epochs)\n",
    "        print(\"Current loss:\", loss)\n",
    "        losses.append(loss)\n",
    "        optimizer = qml.AdamOptimizer()\n",
    "        theta, cost_val = optimizer.step_and_cost(lambda theta: loss_function(x,num_qubits,theta, l, i, epochs), theta)\n",
    "        print(\"Finished optimizing.\")\n",
    "        print()\n",
    "\n",
    "    return theta, losses"
   ]
  },
  {
   "cell_type": "code",
   "execution_count": null,
   "metadata": {},
   "outputs": [],
   "source": [
    "theta_opt, losses = training(epochs)\n",
    "\n",
    "#Plot the results\n",
    "plt.plot(losses)\n",
    "plt.xlabel(\"Iteration\")\n",
    "plt.ylabel(\"Loss\")\n",
    "plt.title(\"With regularization 250 epochs\")\n",
    "plt.savefig(\"losses_with_regularization_fixed_boundary.png\")\n",
    "plt.show()\n",
    "\n",
    "f, df = func_and_deriv(x, num_qubits, theta_opt, l)\n",
    "\n",
    "x2 = np.linspace(0,0.9,100)\n",
    "u_plot = u(x2, x0, u0, kappa, lam)\n",
    "\n",
    "plt.plot(x2, u_plot, label=\"u(x)\")\n",
    "plt.plot(x, f, label=\"f(x)\")\n",
    "plt.xlabel(\"x\")\n",
    "plt.ylabel(\"f(x)\")\n",
    "plt.legend()\n",
    "plt.title(\"With regularization 250 epochs\")\n",
    "plt.savefig(\"f_x_with_regularization_fixed_boundary.png\")\n",
    "plt.show()\n",
    "\n",
    "# plt.plot(x, f, label=\"f\")\n",
    "# plt.xlabel(\"x\")\n",
    "# plt.ylabel(\"f(x)\")\n",
    "# plt.legend()\n",
    "# plt.show()"
   ]
  }
 ],
 "metadata": {
  "kernelspec": {
   "display_name": "Python 3 (ipykernel)",
   "language": "python",
   "name": "python3"
  },
  "language_info": {
   "codemirror_mode": {
    "name": "ipython",
    "version": 3
   },
   "file_extension": ".py",
   "mimetype": "text/x-python",
   "name": "python",
   "nbconvert_exporter": "python",
   "pygments_lexer": "ipython3",
   "version": "3.10.12"
  }
 },
 "nbformat": 4,
 "nbformat_minor": 4
}
